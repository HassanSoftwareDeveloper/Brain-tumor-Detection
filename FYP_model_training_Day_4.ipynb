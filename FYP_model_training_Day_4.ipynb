{
  "cells": [
    {
      "cell_type": "code",
      "execution_count": null,
      "metadata": {
        "id": "VCBwwhrKcDA3"
      },
      "outputs": [],
      "source": [
        "# %% [markdown]\n",
        "# # LongiTumorSense Model Training\n",
        "# **Training on MU-Glioma-Post Dataset**\n",
        "# - Segmentation: nnUNet\n",
        "# - Classification: 3D DenseNet\n",
        "# - Survival: CoxPH Model"
      ]
    },
    {
      "cell_type": "code",
      "source": [
        "!pip install monai torch torchvision nnunet pyradiomics lifelines pydicom nibabel wandb -q"
      ],
      "metadata": {
        "colab": {
          "base_uri": "https://localhost:8080/"
        },
        "id": "Z2Uf9AEeMMcF",
        "outputId": "bfb74699-04f3-4cb8-aff1-931fdeadb22e"
      },
      "execution_count": null,
      "outputs": [
        {
          "output_type": "stream",
          "name": "stdout",
          "text": [
            "\u001b[2K     \u001b[90m━━━━━━━━━━━━━━━━━━━━━━━━━━━━━━━━━━━━━━━\u001b[0m \u001b[32m276.6/276.6 kB\u001b[0m \u001b[31m5.5 MB/s\u001b[0m eta \u001b[36m0:00:00\u001b[0m\n",
            "\u001b[?25h  Preparing metadata (setup.py) ... \u001b[?25l\u001b[?25hdone\n",
            "\u001b[2K     \u001b[90m━━━━━━━━━━━━━━━━━━━━━━━━━━━━━━━━━━━━━━━━\u001b[0m \u001b[32m34.5/34.5 MB\u001b[0m \u001b[31m53.3 MB/s\u001b[0m eta \u001b[36m0:00:00\u001b[0m\n",
            "\u001b[?25h  Installing build dependencies ... \u001b[?25l\u001b[?25hdone\n",
            "  Getting requirements to build wheel ... \u001b[?25l\u001b[?25hdone\n",
            "  Preparing metadata (pyproject.toml) ... \u001b[?25l\u001b[?25hdone\n",
            "\u001b[2K     \u001b[90m━━━━━━━━━━━━━━━━━━━━━━━━━━━━━━━━━━━━━━━━\u001b[0m \u001b[32m34.5/34.5 MB\u001b[0m \u001b[31m12.8 MB/s\u001b[0m eta \u001b[36m0:00:00\u001b[0m\n",
            "\u001b[?25h  Preparing metadata (setup.py) ... \u001b[?25l\u001b[?25hdone\n",
            "\u001b[2K     \u001b[90m━━━━━━━━━━━━━━━━━━━━━━━━━━━━━━━━━━━━━━\u001b[0m \u001b[32m156.3/156.3 kB\u001b[0m \u001b[31m14.2 MB/s\u001b[0m eta \u001b[36m0:00:00\u001b[0m\n",
            "\u001b[?25h  Preparing metadata (setup.py) ... \u001b[?25l\u001b[?25hdone\n",
            "\u001b[2K     \u001b[90m━━━━━━━━━━━━━━━━━━━━━━━━━━━━━━━━━━━━━━━━\u001b[0m \u001b[32m77.0/77.0 kB\u001b[0m \u001b[31m6.2 MB/s\u001b[0m eta \u001b[36m0:00:00\u001b[0m\n",
            "\u001b[?25h  Preparing metadata (setup.py) ... \u001b[?25l\u001b[?25hdone\n",
            "  Preparing metadata (setup.py) ... \u001b[?25l\u001b[?25hdone\n",
            "  Preparing metadata (setup.py) ... \u001b[?25l\u001b[?25hdone\n",
            "\u001b[2K   \u001b[90m━━━━━━━━━━━━━━━━━━━━━━━━━━━━━━━━━━━━━━━━\u001b[0m \u001b[32m2.7/2.7 MB\u001b[0m \u001b[31m91.8 MB/s\u001b[0m eta \u001b[36m0:00:00\u001b[0m\n",
            "\u001b[2K   \u001b[90m━━━━━━━━━━━━━━━━━━━━━━━━━━━━━━━━━━━━━━━━\u001b[0m \u001b[32m363.4/363.4 MB\u001b[0m \u001b[31m1.5 MB/s\u001b[0m eta \u001b[36m0:00:00\u001b[0m\n",
            "\u001b[2K   \u001b[90m━━━━━━━━━━━━━━━━━━━━━━━━━━━━━━━━━━━━━━━━\u001b[0m \u001b[32m13.8/13.8 MB\u001b[0m \u001b[31m80.7 MB/s\u001b[0m eta \u001b[36m0:00:00\u001b[0m\n",
            "\u001b[2K   \u001b[90m━━━━━━━━━━━━━━━━━━━━━━━━━━━━━━━━━━━━━━━━\u001b[0m \u001b[32m24.6/24.6 MB\u001b[0m \u001b[31m65.8 MB/s\u001b[0m eta \u001b[36m0:00:00\u001b[0m\n",
            "\u001b[2K   \u001b[90m━━━━━━━━━━━━━━━━━━━━━━━━━━━━━━━━━━━━━━━━\u001b[0m \u001b[32m883.7/883.7 kB\u001b[0m \u001b[31m42.6 MB/s\u001b[0m eta \u001b[36m0:00:00\u001b[0m\n",
            "\u001b[2K   \u001b[90m━━━━━━━━━━━━━━━━━━━━━━━━━━━━━━━━━━━━━━━━\u001b[0m \u001b[32m664.8/664.8 MB\u001b[0m \u001b[31m1.2 MB/s\u001b[0m eta \u001b[36m0:00:00\u001b[0m\n",
            "\u001b[2K   \u001b[90m━━━━━━━━━━━━━━━━━━━━━━━━━━━━━━━━━━━━━━━━\u001b[0m \u001b[32m211.5/211.5 MB\u001b[0m \u001b[31m5.9 MB/s\u001b[0m eta \u001b[36m0:00:00\u001b[0m\n",
            "\u001b[2K   \u001b[90m━━━━━━━━━━━━━━━━━━━━━━━━━━━━━━━━━━━━━━━━\u001b[0m \u001b[32m56.3/56.3 MB\u001b[0m \u001b[31m12.2 MB/s\u001b[0m eta \u001b[36m0:00:00\u001b[0m\n",
            "\u001b[2K   \u001b[90m━━━━━━━━━━━━━━━━━━━━━━━━━━━━━━━━━━━━━━━━\u001b[0m \u001b[32m127.9/127.9 MB\u001b[0m \u001b[31m7.4 MB/s\u001b[0m eta \u001b[36m0:00:00\u001b[0m\n",
            "\u001b[2K   \u001b[90m━━━━━━━━━━━━━━━━━━━━━━━━━━━━━━━━━━━━━━━━\u001b[0m \u001b[32m207.5/207.5 MB\u001b[0m \u001b[31m6.0 MB/s\u001b[0m eta \u001b[36m0:00:00\u001b[0m\n",
            "\u001b[2K   \u001b[90m━━━━━━━━━━━━━━━━━━━━━━━━━━━━━━━━━━━━━━━━\u001b[0m \u001b[32m188.7/188.7 MB\u001b[0m \u001b[31m5.4 MB/s\u001b[0m eta \u001b[36m0:00:00\u001b[0m\n",
            "\u001b[2K   \u001b[90m━━━━━━━━━━━━━━━━━━━━━━━━━━━━━━━━━━━━━━━━\u001b[0m \u001b[32m21.1/21.1 MB\u001b[0m \u001b[31m83.7 MB/s\u001b[0m eta \u001b[36m0:00:00\u001b[0m\n",
            "\u001b[2K   \u001b[90m━━━━━━━━━━━━━━━━━━━━━━━━━━━━━━━━━━━━━━━━\u001b[0m \u001b[32m349.3/349.3 kB\u001b[0m \u001b[31m26.8 MB/s\u001b[0m eta \u001b[36m0:00:00\u001b[0m\n",
            "\u001b[2K   \u001b[90m━━━━━━━━━━━━━━━━━━━━━━━━━━━━━━━━━━━━━━━━\u001b[0m \u001b[32m2.4/2.4 MB\u001b[0m \u001b[31m80.2 MB/s\u001b[0m eta \u001b[36m0:00:00\u001b[0m\n",
            "\u001b[2K   \u001b[90m━━━━━━━━━━━━━━━━━━━━━━━━━━━━━━━━━━━━━━━━\u001b[0m \u001b[32m117.2/117.2 kB\u001b[0m \u001b[31m9.8 MB/s\u001b[0m eta \u001b[36m0:00:00\u001b[0m\n",
            "\u001b[2K   \u001b[90m━━━━━━━━━━━━━━━━━━━━━━━━━━━━━━━━━━━━━━━━\u001b[0m \u001b[32m52.6/52.6 MB\u001b[0m \u001b[31m13.5 MB/s\u001b[0m eta \u001b[36m0:00:00\u001b[0m\n",
            "\u001b[2K   \u001b[90m━━━━━━━━━━━━━━━━━━━━━━━━━━━━━━━━━━━━━━━━\u001b[0m \u001b[32m43.7/43.7 kB\u001b[0m \u001b[31m3.2 MB/s\u001b[0m eta \u001b[36m0:00:00\u001b[0m\n",
            "\u001b[2K   \u001b[90m━━━━━━━━━━━━━━━━━━━━━━━━━━━━━━━━━━━━━━━━\u001b[0m \u001b[32m118.6/118.6 kB\u001b[0m \u001b[31m10.1 MB/s\u001b[0m eta \u001b[36m0:00:00\u001b[0m\n",
            "\u001b[2K   \u001b[90m━━━━━━━━━━━━━━━━━━━━━━━━━━━━━━━━━━━━━━━━\u001b[0m \u001b[32m12.4/12.4 MB\u001b[0m \u001b[31m110.8 MB/s\u001b[0m eta \u001b[36m0:00:00\u001b[0m\n",
            "\u001b[2K   \u001b[90m━━━━━━━━━━━━━━━━━━━━━━━━━━━━━━━━━━━━━━━━\u001b[0m \u001b[32m96.4/96.4 kB\u001b[0m \u001b[31m8.0 MB/s\u001b[0m eta \u001b[36m0:00:00\u001b[0m\n",
            "\u001b[2K   \u001b[90m━━━━━━━━━━━━━━━━━━━━━━━━━━━━━━━━━━━━━━━━\u001b[0m \u001b[32m739.1/739.1 kB\u001b[0m \u001b[31m44.0 MB/s\u001b[0m eta \u001b[36m0:00:00\u001b[0m\n",
            "\u001b[?25h  Building wheel for nnunet (setup.py) ... \u001b[?25l\u001b[?25hdone\n",
            "  Building wheel for pyradiomics (setup.py) ... \u001b[?25l\u001b[?25hdone\n",
            "  Building wheel for autograd-gamma (setup.py) ... \u001b[?25l\u001b[?25hdone\n",
            "  Building wheel for batchgenerators (setup.py) ... \u001b[?25l\u001b[?25hdone\n",
            "  Building wheel for medpy (setup.py) ... \u001b[?25l\u001b[?25hdone\n",
            "  Building wheel for docopt (setup.py) ... \u001b[?25l\u001b[?25hdone\n"
          ]
        }
      ]
    },
    {
      "cell_type": "code",
      "execution_count": null,
      "metadata": {
        "id": "qiq-ZeBbCbIA"
      },
      "outputs": [],
      "source": [
        "import nibabel as nib\n",
        "import numpy  as np\n",
        "from sklearn.model_selection import train_test_split\n",
        "import torch\n",
        "import os\n",
        "import monai\n",
        "from monai.data import Dataset ,DataLoader\n",
        "from monai.transforms import ( Compose , LoadImaged , EnsureChannelFirstd, ScaleIntensityd,RandRotated,RandFlipd,RandZoomd,ToTensord)\n",
        "from monai.networks.nets import DenseNet121,Unet\n",
        "from monai.metrics import DiceMetric\n",
        "from monai.losses import DiceLoss, FocalLoss\n",
        "import wandb\n",
        "import pandas as pd\n",
        "from lifelines import CoxPHFitter\n"
      ]
    },
    {
      "cell_type": "code",
      "source": [
        "import torch"
      ],
      "metadata": {
        "id": "1C4DKCohFTg6"
      },
      "execution_count": null,
      "outputs": []
    },
    {
      "cell_type": "code",
      "execution_count": null,
      "metadata": {
        "colab": {
          "base_uri": "https://localhost:8080/"
        },
        "id": "aTTpC4VwC0Do",
        "outputId": "85e1e2bf-ee5a-46ff-a530-6bf8d58c3577"
      },
      "outputs": [
        {
          "output_type": "stream",
          "name": "stdout",
          "text": [
            "Using cpu device.\n"
          ]
        }
      ],
      "source": [
        "if torch.cuda.is_available():\n",
        "    device = \"cuda\"\n",
        "elif torch.backends.mps.is_available():\n",
        "    device = \"mps\"\n",
        "else:\n",
        "    device = \"cpu\"\n",
        "\n",
        "print(f\"Using {device} device.\")\n"
      ]
    },
    {
      "cell_type": "code",
      "source": [
        "from google.colab import drive\n",
        "drive.mount('/content/drive')\n"
      ],
      "metadata": {
        "colab": {
          "base_uri": "https://localhost:8080/"
        },
        "id": "I2YW8EoXMYN2",
        "outputId": "3f064ff3-afdd-4e9e-f3e4-8bd27b63bd32"
      },
      "execution_count": null,
      "outputs": [
        {
          "output_type": "stream",
          "name": "stdout",
          "text": [
            "Mounted at /content/drive\n"
          ]
        }
      ]
    },
    {
      "cell_type": "markdown",
      "source": [
        "**Data Clearner and saved into the drive**"
      ],
      "metadata": {
        "id": "Ri04EaJBM6Oh"
      }
    },
    {
      "cell_type": "code",
      "execution_count": null,
      "metadata": {
        "colab": {
          "base_uri": "https://localhost:8080/"
        },
        "id": "G8OKuE6ycWJn",
        "outputId": "9f1461b1-92f9-416a-ef60-1817652f4915"
      },
      "outputs": [
        {
          "output_type": "stream",
          "name": "stdout",
          "text": [
            "Raw dataset path: /content/drive/My Drive/MU-Glioma-Post\n",
            "nnU-Net dataset path: /content/drive/My Drive/clean_data\n",
            "Found 4 cases already processed.\n"
          ]
        }
      ],
      "source": [
        "import os\n",
        "import shutil\n",
        "\n",
        "\n",
        "raw_root = \"/content/drive/My Drive/MU-Glioma-Post\"\n",
        "\n",
        "output_root=\"/content/drive/My Drive/clean_data\"\n",
        "\n",
        "\n",
        "\n",
        "imagesTr = os.path.join(output_root, \"imagesTr\")\n",
        "labelsTr = os.path.join(output_root, \"labelsTr\")\n",
        "os.makedirs(os.path.join(output_root, \"imagesTs\"), exist_ok=True)\n",
        "os.makedirs(imagesTr, exist_ok=True)\n",
        "os.makedirs(labelsTr, exist_ok=True)\n",
        "\n",
        "print(\"Raw dataset path:\", raw_root)\n",
        "print(\"nnU-Net dataset path:\", output_root)\n",
        "\n",
        "\n",
        "progress_file = os.path.join(output_root, \"converted_cases.txt\")\n",
        "\n",
        "if os.path.exists(progress_file):\n",
        "    with open(progress_file, \"r\") as f:\n",
        "        converted_cases = set(line.strip() for line in f)\n",
        "else:\n",
        "    converted_cases = set()\n",
        "print(f\"Found {len(converted_cases)} cases already processed.\")"
      ]
    },
    {
      "cell_type": "code",
      "execution_count": null,
      "metadata": {
        "id": "qqpZTvVpf7mf"
      },
      "outputs": [],
      "source": [
        "def is_nifti(fname):\n",
        "  return fname.endswith(\".nii\") or fname.endswith(\".nii.gz\")"
      ]
    },
    {
      "cell_type": "code",
      "execution_count": null,
      "metadata": {
        "id": "WYZeKxppgCo3"
      },
      "outputs": [],
      "source": [
        "mod_priority=[\n",
        "      't1c','t1gd','t1ce',  # contrast-enhanced T1 variants\n",
        "    't1n','t1',           # native T1\n",
        "    'flair','t2f','t2flair','t2w','t2' # T2 /flair variants\n",
        "]"
      ]
    },
    {
      "cell_type": "code",
      "execution_count": null,
      "metadata": {
        "id": "_Iev103XgQPf"
      },
      "outputs": [],
      "source": [
        "def file_priority(fname):\n",
        "  lf=fname.lower()\n",
        "  for i,k in enumerate(mod_priority):\n",
        "    if k in lf:\n",
        "      return i\n",
        "  return len(mod_priority) + hash(lf) % 1000"
      ]
    },
    {
      "cell_type": "code",
      "source": [
        "import re\n",
        "import os\n",
        "import shutil\n",
        "from tqdm import tqdm\n",
        "canonical_modalities = None\n",
        "\n",
        "\n",
        "\n",
        "\n",
        "skipped = []\n",
        "new_cases_count = 0\n",
        "\n",
        "\n",
        "\n",
        "\n",
        "\n",
        "total_timepoints = sum(\n",
        "    1 for p in sorted(os.listdir(raw_root))\n",
        "    if os.path.isdir(os.path.join(raw_root, p))\n",
        "    for tp in sorted(os.listdir(os.path.join(raw_root, p)))\n",
        "    if os.path.isdir(os.path.join(raw_root, p, tp))\n",
        ")\n",
        "\n",
        "\n",
        "\n",
        "\n",
        "\n",
        "\n",
        "\n",
        "with tqdm(total=total_timepoints, desc=\"Processing cases\") as pbar:\n",
        "    for patient_id in sorted(os.listdir(raw_root)):\n",
        "        patient_path = os.path.join(raw_root, patient_id)\n",
        "        if not os.path.isdir(patient_path):\n",
        "            pbar.update(1)\n",
        "            continue\n",
        "\n",
        "\n",
        "\n",
        "\n",
        "\n",
        "\n",
        "        for tp in sorted(os.listdir(patient_path)):\n",
        "            tp_path = os.path.join(patient_path, tp)\n",
        "            if not os.path.isdir(tp_path):\n",
        "                pbar.update(1)\n",
        "                continue\n",
        "\n",
        "\n",
        "\n",
        "            tp_clean = re.sub(r\"\\s+\", \"_\", tp)\n",
        "            tp_clean = re.sub(r\"[^A-Za-z0-9_-]\", \"_\", tp_clean)\n",
        "            case_id = f\"{patient_id}_{tp_clean}\"\n",
        "\n",
        "\n",
        "\n",
        "            if case_id in converted_cases:\n",
        "                pbar.update(1)\n",
        "                continue\n",
        "\n",
        "\n",
        "            files = [f for f in os.listdir(tp_path) if is_nifti(f)]\n",
        "            if not files:\n",
        "                skipped.append((patient_id, tp, \"no nifti files\"))\n",
        "                pbar.update(1)\n",
        "                continue\n",
        "\n",
        "\n",
        "\n",
        "            label_candidates = [f for f in files if any(x in f.lower() for x in [\"mask\", \"tumor\", \"seg\", \"label\"])]\n",
        "            if len(label_candidates) == 0:\n",
        "                skipped.append((patient_id, tp, \"no label found\"))\n",
        "                pbar.update(1)\n",
        "                continue\n",
        "\n",
        "\n",
        "            label_file = label_candidates[0]\n",
        "\n",
        "\n",
        "\n",
        "            image_files = [f for f in files if f != label_file]\n",
        "            if len(image_files) == 0:\n",
        "                skipped.append((patient_id, tp, \"no image files\"))\n",
        "                pbar.update(1)\n",
        "                continue\n",
        "\n",
        "\n",
        "\n",
        "            image_files_sorted = sorted(image_files, key=file_priority)\n",
        "            if canonical_modalities is None:\n",
        "                canonical_modalities = image_files_sorted.copy()\n",
        "                print(\"\\nDetected modality order (from first sample)\")\n",
        "                for idx, nm in enumerate(canonical_modalities):\n",
        "                    print(f\"{idx}: {nm}\")\n",
        "                print(\"If this order is wrong adjust mod_priority list in the script.\")\n",
        "\n",
        "\n",
        "            else:\n",
        "                if len(image_files_sorted) != len(canonical_modalities):\n",
        "                    skipped.append(\n",
        "                        (patient_id, tp, f\"modality count mismatch {len(image_files_sorted)} vs {len(canonical_modalities)}\")\n",
        "                    )\n",
        "                    pbar.update(1)\n",
        "                    continue\n",
        "\n",
        "\n",
        "\n",
        "            for i, fname in enumerate(image_files_sorted):\n",
        "                src = os.path.join(tp_path, fname)\n",
        "                destination = os.path.join(imagesTr, f\"{case_id}_{i:04d}.nii.gz\")\n",
        "                shutil.copy(src, destination)\n",
        "\n",
        "            shutil.copy2(os.path.join(tp_path, label_file), os.path.join(labelsTr, f\"{case_id}.nii.gz\"))\n",
        "\n",
        "\n",
        "\n",
        "            converted_cases.add(case_id)\n",
        "            with open(progress_file, \"a\") as f:\n",
        "                f.write(case_id + \"\\n\")\n",
        "\n",
        "            new_cases_count += 1\n",
        "            pbar.update(1)\n",
        "\n",
        "print(f\"\\nConversion finished. {len(converted_cases)} total cases processed so far.\")\n",
        "if skipped:\n",
        "    print(f\"{len(skipped)} timepoints skipped (see sample):\")\n",
        "    for s in skipped[:10]:\n",
        "        print(\" \", s)\n",
        "\n",
        "print(f\"imagesTr files: {len(os.listdir(imagesTr))}, labelsTr files: {len(os.listdir(labelsTr))}\")\n",
        "print(f\"Newly processed this run: {new_cases_count}\")"
      ],
      "metadata": {
        "id": "0n_o0C16-mDR"
      },
      "execution_count": null,
      "outputs": []
    },
    {
      "cell_type": "markdown",
      "source": [
        "**Get clean data from drive into local colab for further processing**"
      ],
      "metadata": {
        "id": "YyI_fuYGDqA5"
      }
    },
    {
      "cell_type": "code",
      "source": [
        "from tqdm import tqdm\n",
        "import os\n",
        "import shutil\n",
        "\n",
        "\n",
        "drive_clean_path = \"/content/drive/MyDrive/clean_data\"\n",
        "local_clean_path = \"/content/clean_data_local\"\n",
        "\n",
        "os.makedirs(local_clean_path,exist_ok=True)\n",
        "\n",
        "\n",
        "all_files=[]\n",
        "\n",
        "for root,dirs,files in os.walk(drive_clean_path):\n",
        "    for file in files:\n",
        "      source_file=os.path.join(root,file)\n",
        "      relative_path=os.path.relpath(source_file,drive_clean_path)\n",
        "      destination_file=os.path.join(local_clean_path,relative_path)\n",
        "      all_files.append((source_file, destination_file))\n",
        "\n",
        "\n",
        "remaining_files=[]\n",
        "for source_file,destination_file in all_files:\n",
        "    if os.path.exists(destination_file)and os.path.getsize(destination_file)==os.path.getsize(source_file):\n",
        "       continue\n",
        "    remaining_files.append((source_file,destination_file))\n",
        "\n",
        "for source_file,destination_file in tqdm(remaining_files, desc=\"copying files\", unit=\"files\"):\n",
        "    os.makedirs(os.path.dirname(destination_file),exist_ok=True)\n",
        "    shutil.copy2(source_file , destination_file)\n",
        "\n",
        "print(f\"copy complete!{len(all_files)-len(remaining_files)} files already exists,{len(remaining_files)} new files copied\")\n",
        "print(\" Clean dataset loaded from Drive.\")\n"
      ],
      "metadata": {
        "colab": {
          "base_uri": "https://localhost:8080/"
        },
        "id": "a8mxhBhBAW6h",
        "outputId": "ec5650bb-21c3-4adb-c06c-f8e591cf4e8b"
      },
      "execution_count": null,
      "outputs": [
        {
          "output_type": "stream",
          "name": "stderr",
          "text": [
            "copying files: 100%|██████████| 2972/2972 [13:06<00:00,  3.78files/s]"
          ]
        },
        {
          "output_type": "stream",
          "name": "stdout",
          "text": [
            "copy complete!0 files already exists,2972 new files copied\n",
            " Clean dataset loaded from Drive.\n"
          ]
        },
        {
          "output_type": "stream",
          "name": "stderr",
          "text": [
            "\n"
          ]
        }
      ]
    },
    {
      "cell_type": "markdown",
      "source": [
        "**This is for checking the length of file for each imageTr and labelTr**"
      ],
      "metadata": {
        "id": "rGGZ6yiKMurh"
      }
    },
    {
      "cell_type": "code",
      "source": [
        "imagesTr_path=os.path.join(local_clean_path,\"imagesTr\")\n",
        "labelsTr_path=os.path.join(local_clean_path,\"labelsTr\")\n",
        "\n",
        "length_imageTr=len([f for f in os.listdir(imagesTr_path) if os.path.isfile(os.path.join(imagesTr_path,f))])\n",
        "length_labelsTr=len([f for f in os.listdir(labelsTr_path) if os.path.isfile(os.path.join(labelsTr_path,f))])\n",
        "\n",
        "print(f\" imageTr files:{length_imageTr}\")\n",
        "print(f\" labelsTr files:{length_labelsTr}\")"
      ],
      "metadata": {
        "colab": {
          "base_uri": "https://localhost:8080/"
        },
        "id": "PSbJP58r7tKT",
        "outputId": "34408c8e-bc88-4089-d656-5bc737e0fc49"
      },
      "execution_count": null,
      "outputs": [
        {
          "output_type": "stream",
          "name": "stdout",
          "text": [
            " imageTr files:2376\n",
            " labelsTr files:594\n"
          ]
        }
      ]
    },
    {
      "cell_type": "markdown",
      "metadata": {
        "id": "HiegR9RiCE9l"
      },
      "source": [
        "**After Disconnect:**"
      ]
    },
    {
      "cell_type": "code",
      "execution_count": null,
      "metadata": {
        "colab": {
          "background_save": true
        },
        "id": "IGS3nUAZ22D0"
      },
      "outputs": [],
      "source": [
        "!pip install monai torch torchvision nnunet pyradiomics lifelines pydicom nibabel wandb -q"
      ]
    },
    {
      "cell_type": "markdown",
      "metadata": {
        "id": "KxdV-3ovAz3h"
      },
      "source": [
        "**Install a Python package directly from its GitHub source code, not from the normal package store (PyPI).”**"
      ]
    },
    {
      "cell_type": "markdown",
      "metadata": {
        "id": "WEzaBMYLCTVI"
      },
      "source": [
        "**This function loads an MRI file, converts it to a NumPy array, and scales all values to between 0 and 1 for easier analysis.**"
      ]
    },
    {
      "cell_type": "code",
      "source": [
        "!pip install git+https://github.com/MIC-DKFZ/nnUNet.git"
      ],
      "metadata": {
        "id": "PVPVEKZjQjV6"
      },
      "execution_count": null,
      "outputs": []
    },
    {
      "cell_type": "markdown",
      "metadata": {
        "id": "7YOcMNyv3YC7"
      },
      "source": []
    },
    {
      "cell_type": "code",
      "execution_count": null,
      "metadata": {
        "id": "Mr2v-669CSwg"
      },
      "outputs": [],
      "source": [
        "import nibabel as nib\n",
        "import numpy  as np\n",
        "\n",
        "def load_and_preprocess(patient_path):\n",
        "    img = nib.load(patient_path)\n",
        "    data = img.get_fdata()\n",
        "    data = (data - np.min(data)) / (np.max(data) - np.min(data))\n",
        "    return data"
      ]
    },
    {
      "cell_type": "code",
      "source": [],
      "metadata": {
        "id": "-mzSkdJPP36u"
      },
      "execution_count": null,
      "outputs": []
    },
    {
      "cell_type": "markdown",
      "source": [
        "**Renames the file into nnuNet naming style**\n",
        "\n",
        "**Copy and rename image files**\n",
        "\n",
        "**Copy and rename label files**\n"
      ],
      "metadata": {
        "id": "RrALGUyCQ8O2"
      }
    },
    {
      "cell_type": "code",
      "source": [
        "import os\n",
        "import re\n",
        "import shutil\n",
        "from glob import glob\n",
        "from tqdm import tqdm\n",
        "\n",
        "source_images = \"/content/drive/MyDrive/clean_data/imagesTr\"\n",
        "source_labels = \"/content/drive/MyDrive/clean_data/labelsTr\"\n",
        "\n",
        "destination_imagesTr = \"/content/clean_data_local/imagesTr\"\n",
        "destination_labelsTr = \"/content/clean_data_local/labelsTr\"\n",
        "\n",
        "os.makedirs(destination_imagesTr, exist_ok=True)\n",
        "os.makedirs(destination_labelsTr, exist_ok=True)\n",
        "\n",
        "image_files = glob(os.path.join(source_images, \"*.nii.gz\"))\n",
        "label_files = glob(os.path.join(source_labels, \"*.nii.gz\"))\n",
        "\n",
        "\n",
        "\n",
        "print(f\"Copying {len(image_files)} image files...\")\n",
        "\n",
        "\n",
        "for scan_path in tqdm(image_files, desc=\"Images copied\", unit=\"file\"):\n",
        "    filename = os.path.basename(scan_path)\n",
        "    match = re.match(r\"(PatientID_\\d+)_Timepoint_(\\d+)_(\\d{4})\\.nii\\.gz\", filename)\n",
        "    if match:\n",
        "        patient_id, timepoint, modality_idx = match.groups()\n",
        "        case_id = f\"{patient_id}_Timepoint_{timepoint}\"\n",
        "        destination_path = os.path.join(destination_imagesTr, f\"{case_id}_{modality_idx}.nii.gz\")\n",
        "        if scan_path != destination_path:\n",
        "            shutil.copy(scan_path, destination_path)\n",
        "\n",
        "print(f\"Copying {len(label_files)} label files...\")\n",
        "\n",
        "\n",
        "for label_path in tqdm(label_files, desc=\"Labels copied\", unit=\"file\"):\n",
        "    filename = os.path.basename(label_path)\n",
        "    match = re.match(r\"(PatientID_\\d+)_Timepoint_(\\d+)\\.nii\\.gz\", filename)\n",
        "    if match:\n",
        "        patient_id, timepoint = match.groups()\n",
        "        case_id = f\"{patient_id}_Timepoint_{timepoint}\"\n",
        "        dst_path = os.path.join(destination_labelsTr, f\"{case_id}.nii.gz\")\n",
        "        if label_path != dst_path:\n",
        "            shutil.copy(label_path, dst_path)\n",
        "\n",
        "print(f\"Total copied {len(os.listdir(destination_imagesTr))} scans to {destination_imagesTr}\")\n",
        "print(f\"Total copied {len(os.listdir(destination_labelsTr))} labels to {destination_labelsTr}\")\n"
      ],
      "metadata": {
        "colab": {
          "base_uri": "https://localhost:8080/"
        },
        "id": "7ExmO0wKU5I1",
        "outputId": "4c661566-8a3e-40a4-9b28-f9e3bcd3bd76"
      },
      "execution_count": null,
      "outputs": [
        {
          "output_type": "stream",
          "name": "stdout",
          "text": [
            "Copying 2376 image files...\n"
          ]
        },
        {
          "output_type": "stream",
          "name": "stderr",
          "text": [
            "Images copied: 100%|██████████| 2376/2376 [06:36<00:00,  6.00file/s]\n"
          ]
        },
        {
          "output_type": "stream",
          "name": "stdout",
          "text": [
            "Copying 594 label files...\n"
          ]
        },
        {
          "output_type": "stream",
          "name": "stderr",
          "text": [
            "Labels copied: 100%|██████████| 594/594 [02:21<00:00,  4.19file/s]"
          ]
        },
        {
          "output_type": "stream",
          "name": "stdout",
          "text": [
            "Total copied 2376 scans to /content/clean_data_local/imagesTr\n",
            "Total copied 594 labels to /content/clean_data_local/labelsTr\n"
          ]
        },
        {
          "output_type": "stream",
          "name": "stderr",
          "text": [
            "\n"
          ]
        }
      ]
    },
    {
      "cell_type": "code",
      "source": [
        "imagesTr_path = \"/content/clean_data_local/imagesTr\"\n",
        "labelsTr_path = \"/content/clean_data_local/labelsTr\"\n",
        "\n",
        "\n",
        "def clean_zero_byte_files(folder_path):\n",
        "     deleted_files=[]\n",
        "     for root,_, files in os.walk(folder_path):\n",
        "         for file in files:\n",
        "             file_path=os.path.join(root,file)\n",
        "             if os.path.getsize(file_path)==0:\n",
        "                print(f\"Deleting 0-byte file : {file_path}\")\n",
        "                os.remove(file_path)\n",
        "                deleted_files.append(file_path)\n",
        "     return deleted_files# Clean both images and labels\n",
        "deleted_images = clean_zero_byte_files(imagesTr_path)\n",
        "deleted_labels = clean_zero_byte_files(labelsTr_path)\n",
        "\n",
        "print(f\"\\nDeleted {len(deleted_images)} image files and {len(deleted_labels)} label files.\\n\")\n"
      ],
      "metadata": {
        "colab": {
          "base_uri": "https://localhost:8080/"
        },
        "id": "_2w42vLvcG3g",
        "outputId": "af6dd6cf-18a4-4aea-ab23-2a38d41119c4"
      },
      "execution_count": null,
      "outputs": [
        {
          "output_type": "stream",
          "name": "stdout",
          "text": [
            "\n",
            "Deleted 0 image files and 0 label files.\n",
            "\n"
          ]
        }
      ]
    },
    {
      "cell_type": "code",
      "source": [
        "import os\n",
        "\n",
        "file_path = \"/content/clean_data_local/imagesTr/PatientID_0021_Timepoint_6_0001.nii.gz\"\n",
        "\n",
        "if os.path.exists(file_path):\n",
        "    if os.path.getsize(file_path) == 0:\n",
        "        os.remove(file_path)\n",
        "        print(\"Deleted 0-byte file:\", file_path)\n",
        "    else:\n",
        "        print(\"File is not empty, skipping deletion.\")\n",
        "else:\n",
        "    print(\"File not found.\")\n"
      ],
      "metadata": {
        "colab": {
          "base_uri": "https://localhost:8080/"
        },
        "id": "mYA1ixO5YK0l",
        "outputId": "446fe2e5-02ea-4e12-a2d3-b3995fd8b9a9"
      },
      "execution_count": null,
      "outputs": [
        {
          "output_type": "stream",
          "name": "stdout",
          "text": [
            "File not found.\n"
          ]
        }
      ]
    },
    {
      "cell_type": "markdown",
      "source": [
        "**This code creates a dataset.json file that describes your medical imaging dataset for nnU-Net.**"
      ],
      "metadata": {
        "id": "2SqZer9eXjVk"
      }
    },
    {
      "cell_type": "code",
      "execution_count": null,
      "metadata": {
        "colab": {
          "base_uri": "https://localhost:8080/"
        },
        "id": "eeNuFCGIdUuC",
        "outputId": "deb7cc90-0973-4e29-deb0-96204f684a36"
      },
      "outputs": [
        {
          "output_type": "stream",
          "name": "stdout",
          "text": [
            "dataset.json created at: /content/clean_data_local/dataset.json\n",
            "{\n",
            "    \"name\": \"MU-Glioma-Post\",\n",
            "    \"description\": \"Post-operative glioma segmentation\",\n",
            "    \"reference\": \"Your reference here\",\n",
            "    \"licence\": \"Your license here\",\n",
            "    \"release\": \"1.0\",\n",
            "    \"modality\": {\n",
            "        \"0\": \"MRI_modality_0\",\n",
            "        \"1\": \"MRI_modality_1\",\n",
            "        \"2\": \"MRI_modality_2\",\n",
            "        \"3\": \"MRI_modality_3\"\n",
            "    },\n",
            "    \"labels\": {\n",
            "        \"0\": \"background\",\n",
            "        \"1\": \"tumor\"\n",
            "    },\n",
            "    \"numTraining\": 593,\n",
            "    \"file_ending\": \".nii.gz\"\n",
            "}\n"
          ]
        }
      ],
      "source": [
        "import os\n",
        "import json\n",
        "import re\n",
        "\n",
        "\n",
        "output_root = \"/content/clean_data_local\"\n",
        "imagesTr_path = os.path.join(output_root, \"imagesTr\")\n",
        "labelsTr_path = os.path.join(output_root, \"labelsTr\")\n",
        "\n",
        "\n",
        "num_cases = len([f for f in os.listdir(labelsTr_path) if f.endswith(\".nii.gz\")])\n",
        "\n",
        "\n",
        "first_case_files = sorted([f for f in os.listdir(imagesTr_path) if f.endswith(\".nii.gz\")])\n",
        "modality_count = len(set([re.search(r'_(\\d{4})\\.nii\\.gz$', f).group(1) for f in first_case_files]))\n",
        "\n",
        "\n",
        "dataset_json = {\n",
        "    \"name\": \"MU-Glioma-Post\",\n",
        "    \"description\": \"Post-operative glioma segmentation\",\n",
        "    \"reference\": \"Your reference here\",\n",
        "    \"licence\": \"Your license here\",\n",
        "    \"release\": \"1.0\",\n",
        "    \"modality\": {str(i): f\"MRI_modality_{i}\" for i in range(modality_count)},\n",
        "    \"labels\": {\n",
        "        \"0\": \"background\",\n",
        "        \"1\": \"tumor\"\n",
        "    },\n",
        "    \"numTraining\": num_cases,\n",
        "    \"file_ending\": \".nii.gz\"\n",
        "}\n",
        "\n",
        "\n",
        "with open(os.path.join(output_root, \"dataset.json\"), 'w') as f:\n",
        "    json.dump(dataset_json, f, indent=4)\n",
        "\n",
        "print(f\"dataset.json created at: {os.path.join(output_root, 'dataset.json')}\")\n",
        "print(json.dumps(dataset_json, indent=4))\n"
      ]
    },
    {
      "cell_type": "markdown",
      "metadata": {
        "id": "LkjWjNWHBBdW"
      },
      "source": []
    },
    {
      "cell_type": "code",
      "source": [
        "import wandb\n",
        "\n",
        "# Print your default W&B username (entity)\n",
        "print(\"Your W&B username:\", wandb.Api().default_entity)\n",
        "\n",
        "# Alternative: Check after login\n",
        "wandb.login()\n",
        "print(\"Logged in as:\", wandb.Api().default_entity)"
      ],
      "metadata": {
        "id": "VRxzFScnoqqV"
      },
      "execution_count": null,
      "outputs": []
    },
    {
      "cell_type": "code",
      "source": [
        "wandb.init(project=\"LongiTumorSense\",entity=\"numl-f21-35629-numl\")"
      ],
      "metadata": {
        "id": "vJa0eTVtEgpm"
      },
      "execution_count": null,
      "outputs": []
    },
    {
      "cell_type": "code",
      "source": [
        "import os\n",
        "from sklearn.model_selection import train_test_split\n",
        "\n",
        "def prepare_dataset(imagesTr, labelsTr, test_size=0.2):\n",
        "\n",
        "    image_files = [f for f in os.listdir(imagesTr) if f.endswith(\".nii.gz\")]\n",
        "    case_ids = sorted(list(set(\"_\".join(f.split(\"_\")[:-1]) for f in image_files)))\n",
        "\n",
        "    print(f\"Found {len(case_ids)} unique cases.\")\n",
        "\n",
        "    # Split into train and test\n",
        "    train_cases, test_cases = train_test_split(case_ids, test_size=test_size, random_state=42)\n",
        "\n",
        "    missing_labels = []\n",
        "\n",
        "    def build_file_list(cases):\n",
        "        file_list = []\n",
        "        for case_id in cases:\n",
        "            # Build list of all 4 modalities for this case\n",
        "            modalities = [\n",
        "                os.path.join(imagesTr, f\"{case_id}_0000.nii.gz\"),  # FLAIR\n",
        "                os.path.join(imagesTr, f\"{case_id}_0001.nii.gz\"),  # T1\n",
        "                os.path.join(imagesTr, f\"{case_id}_0002.nii.gz\"),  # T1ce\n",
        "                os.path.join(imagesTr, f\"{case_id}_0003.nii.gz\")   # T2\n",
        "            ]\n",
        "            label_path = os.path.join(labelsTr, f\"{case_id}.nii.gz\")\n",
        "\n",
        "            if not os.path.exists(label_path):\n",
        "                missing_labels.append(case_id)\n",
        "                continue\n",
        "\n",
        "            file_list.append({\n",
        "                \"image\": modalities,\n",
        "                \"label\": label_path,\n",
        "                \"name\": case_id\n",
        "            })\n",
        "        return file_list\n",
        "\n",
        "    train_files = build_file_list(train_cases)\n",
        "    test_files = build_file_list(test_cases)\n",
        "\n",
        "    print(f\"Length of training dataset: {len(train_files)}\")\n",
        "    print(f\"Length of validation dataset: {len(test_files)}\")\n",
        "\n",
        "    if missing_labels:\n",
        "        print(f\"Missing labels for {len(missing_labels)} cases: {missing_labels[:10]}{'...' if len(missing_labels) > 10 else ''}\")\n",
        "\n",
        "    return train_files, test_files\n"
      ],
      "metadata": {
        "id": "J7q_yUWaiEj4"
      },
      "execution_count": null,
      "outputs": []
    },
    {
      "cell_type": "code",
      "source": [
        "\n",
        "train_files, test_files = prepare_dataset(\n",
        "    \"/content/clean_data_local/imagesTr\",\n",
        "    \"/content/clean_data_local/labelsTr\"\n",
        ")\n"
      ],
      "metadata": {
        "colab": {
          "base_uri": "https://localhost:8080/"
        },
        "id": "Bd4Qh8G7Z7Us",
        "outputId": "79b869fb-0d1d-4f0e-af0a-16aadf361893"
      },
      "execution_count": null,
      "outputs": [
        {
          "output_type": "stream",
          "name": "stdout",
          "text": [
            "Found 594 unique cases.\n",
            "Length of training dataset: 474\n",
            "Length of validation dataset: 119\n",
            "Missing labels for 1 cases: ['PatientID_0275_Timepoint_6']\n"
          ]
        }
      ]
    },
    {
      "cell_type": "markdown",
      "metadata": {
        "id": "Bwp0vLhAMGLZ"
      },
      "source": []
    },
    {
      "cell_type": "code",
      "source": [
        "from monai.transforms import LoadImaged\n",
        "from monai.data import Dataset as MonaiDataset,DataLoader\n",
        "class SafeDataset(MonaiDataset):\n",
        "    def __getitem__(self, index):\n",
        "        item = self.data[index]\n",
        "        try:\n",
        "            if self.transform is not None:\n",
        "                item= self.transform(item)\n",
        "            return item\n",
        "\n",
        "        except (FileNotFoundError, nib.filebasedimages.ImageFileError, RuntimeError)  as e:\n",
        "              image=item.get(\"image\",\"unknown\")\n",
        "              print(f\"Skipping sample at index: {index}:{image} ({e})\")\n",
        "              return None\n",
        "        except Exception as e:\n",
        "             image= item.get(\"image\",\"unknown\")\n",
        "             print(f\"Skipping sample at index:  {index} due to unexpected error: {image} ({e})\")\n",
        "             return None"
      ],
      "metadata": {
        "id": "nlhNxvRsmRi9"
      },
      "execution_count": null,
      "outputs": []
    },
    {
      "cell_type": "code",
      "source": [
        "from torch.utils.data._utils.collate import default_collate\n",
        "def collate_skip_none(batch):\n",
        "    batch = [item for item in batch if item is not None]\n",
        "    if not batch:\n",
        "        return None\n",
        "    return default_collate(batch)"
      ],
      "metadata": {
        "id": "kXEDwad90kO8"
      },
      "execution_count": null,
      "outputs": []
    },
    {
      "cell_type": "code",
      "source": [
        "from monai.transforms import Compose\n",
        "\n",
        "transform_basic=Compose([\n",
        "    LoadImaged(keys=[\"image\"],allow_missing_keys=True),\n",
        "    EnsureChannelFirstd(keys=[\"image\"]),\n",
        "    ToTensord(keys=[\"image\"])\n",
        "\n",
        "])"
      ],
      "metadata": {
        "id": "n5kxY5IhcMTj"
      },
      "execution_count": null,
      "outputs": []
    },
    {
      "cell_type": "code",
      "source": [
        "batch_size=4\n",
        "train_dataset_basic=SafeDataset(data=train_files,transform=transform_basic)\n",
        "train_loader_basic=DataLoader(train_dataset_basic,batch_size=batch_size, collate_fn=collate_skip_none, shuffle=True)\n",
        "batch_shape=next(iter(train_loader_basic))[\"image\"].shape\n",
        "print(\"Getting batches of shape:\",batch_shape)"
      ],
      "metadata": {
        "colab": {
          "base_uri": "https://localhost:8080/"
        },
        "id": "poHP67I9fkf1",
        "outputId": "ef6397bf-6d26-451b-bd24-fa495c20f5d9"
      },
      "execution_count": 136,
      "outputs": [
        {
          "output_type": "stream",
          "name": "stdout",
          "text": [
            "Getting batches of shape: torch.Size([4, 4, 240, 240, 155])\n"
          ]
        }
      ]
    },
    {
      "cell_type": "code",
      "source": [
        "# def get_mean_std(dataset_loader_basic,resume_file=\"resume_index.txt\"):\n",
        "#   \"\"\" Computes the mean and std of image data.\n",
        "#   Input :a DataLoader producing tesnors of shpae [batch_size, channesl , pixels_x, pixel_y]\n",
        "#   Output: the mean of each channel as a tensor , the standard deviaton of each channel as a tensor\n",
        "#   formatted as a tuple ( means[channels], std[channels])\n",
        "#   \"\"\"\n",
        "#   start_index=0\n",
        "#   if resume_file is not None and os.path.exists(resume_file): # Added check for None\n",
        "#      with open(resume_file , \"r\") as file:\n",
        "#           start_index=int(file.read().strip() or 0)\n",
        "#      print(f\"Resuming from batch index {start_index}....\")\n",
        "\n",
        "#   channels_sum,channels_squared_sum, num_batches=0,0,0\n",
        "\n",
        "#   for  idx,batch_shape in enumerate(tqdm(dataset_loader_basic, desc=\"Computing mean and std\", leave=False)):\n",
        "#        if idx < start_index:\n",
        "#           continue\n",
        "#        try:\n",
        "\n",
        "#           data = batch_shape[\"image\"]\n",
        "#           channels_sum += torch.mean(data,dim=[0,2,3])\n",
        "#           channels_squared_sum+=torch.mean(data**2,dim=[0,2,3])\n",
        "#           num_batches+=1\n",
        "\n",
        "#           if resume_file is not None: # Only write to file if resume_file is not None\n",
        "#             with open(resume_file,\"w\") as file:\n",
        "#               file.write(str(idx +1))\n",
        "\n",
        "#        except FileNotFoundError as e:\n",
        "#           print(f\"Skipping missing file in batch{idx}:{e}\")\n",
        "#        except Exception as e:\n",
        "#           print(f\"Error processing batch {idx}: {e}\")\n",
        "\n",
        "#   if num_batches == 0:\n",
        "#     raise ValueError(\"No valid images found in the dataset.\")\n",
        "\n",
        "#   mean=channels_sum/num_batches\n",
        "#   std=(channels_squared_sum/num_batches-mean**2)**0.5\n",
        "\n",
        "#   return mean,std"
      ],
      "metadata": {
        "id": "RJMRR-J1jFdt"
      },
      "execution_count": 141,
      "outputs": []
    },
    {
      "cell_type": "markdown",
      "source": [
        "**check original file in drive**"
      ],
      "metadata": {
        "id": "BIrjIItcWGu9"
      }
    },
    {
      "cell_type": "code",
      "source": [
        "import torch\n",
        "from tqdm import tqdm\n",
        "\n",
        "def get_mean_std(dataset_loader_basic, resume_file=None):\n",
        "    \"\"\"\n",
        "    Compute per-channel mean and std from a DataLoader that yields dicts with key 'image'.\n",
        "\n",
        "    Args:\n",
        "        loader: PyTorch DataLoader returning batches with [\"image\"] tensors of shape [B, C, H, W] or [B, C, D, H, W]\n",
        "        resume_file (str or None): Optional file to store the last processed batch index for resuming.\n",
        "\n",
        "    Returns:\n",
        "        mean (torch.Tensor): Per-channel mean values.\n",
        "        std (torch.Tensor): Per-channel standard deviations.\n",
        "    \"\"\"\n",
        "    start_index = 0\n",
        "    if resume_file is not None and os.path.exists(resume_file):\n",
        "        with open(resume_file, \"r\") as f:\n",
        "            start_index = int(f.read().strip() or 0)\n",
        "        print(f\"Resuming from batch index {start_index}...\")\n",
        "\n",
        "    channels_sum = 0\n",
        "    channels_squared_sum = 0\n",
        "    num_batches = 0\n",
        "\n",
        "    for idx, batch in enumerate(tqdm(dataset_loader_basic, desc=\"Computing mean/std\", unit=\"batch\")):\n",
        "        if idx < start_index:\n",
        "            continue\n",
        "        try:\n",
        "            data = batch[\"image\"]\n",
        "            data = data.float()\n",
        "\n",
        "\n",
        "            dims = list(range(0, data.ndim))\n",
        "            dims.remove(1)\n",
        "            channels_sum += data.mean(dim=dims)\n",
        "            channels_squared_sum += (data ** 2).mean(dim=dims)\n",
        "            num_batches += 1\n",
        "\n",
        "            if resume_file is not None:\n",
        "                with open(resume_file, \"w\") as f:\n",
        "                    f.write(str(idx + 1))\n",
        "\n",
        "        except Exception as e:\n",
        "            print(f\"Error processing batch {idx}: {e}\")\n",
        "\n",
        "    if num_batches == 0:\n",
        "        raise ValueError(\"No valid images found in the dataset.\")\n",
        "\n",
        "    mean = channels_sum / num_batches\n",
        "    std = torch.sqrt(channels_squared_sum / num_batches - mean ** 2)\n",
        "\n",
        "    return mean, std\n",
        "\n",
        "\n"
      ],
      "metadata": {
        "id": "N_3kL5bhKu9N"
      },
      "execution_count": 144,
      "outputs": []
    },
    {
      "cell_type": "code",
      "source": [
        "\n",
        "mean, std = get_mean_std(train_loader_basic,resume_file=None)\n",
        "print(\"Mean:\", mean)\n",
        "print(\"Std:\", std)"
      ],
      "metadata": {
        "colab": {
          "base_uri": "https://localhost:8080/"
        },
        "id": "s2GfSZ_gcz3A",
        "outputId": "3fc61af7-2ff5-4368-86d4-42a4254394a8"
      },
      "execution_count": 145,
      "outputs": [
        {
          "output_type": "stream",
          "name": "stderr",
          "text": [
            "Computing mean/std:  60%|█████▉    | 71/119 [06:30<06:03,  7.57s/batch]"
          ]
        },
        {
          "output_type": "stream",
          "name": "stdout",
          "text": [
            "Skipping sample at index: 261:['/content/clean_data_local/imagesTr/PatientID_0021_Timepoint_6_0000.nii.gz', '/content/clean_data_local/imagesTr/PatientID_0021_Timepoint_6_0001.nii.gz', '/content/clean_data_local/imagesTr/PatientID_0021_Timepoint_6_0002.nii.gz', '/content/clean_data_local/imagesTr/PatientID_0021_Timepoint_6_0003.nii.gz'] (applying transform <monai.transforms.io.dictionary.LoadImaged object at 0x7a4f0afb27d0>)\n"
          ]
        },
        {
          "output_type": "stream",
          "name": "stderr",
          "text": [
            "Computing mean/std: 100%|██████████| 119/119 [10:40<00:00,  5.38s/batch]"
          ]
        },
        {
          "output_type": "stream",
          "name": "stdout",
          "text": [
            "Mean: metatensor([48.0662, 42.7708, 38.8622, 70.4219])\n",
            "Std: metatensor([140.8673, 117.6777, 106.3751, 187.3814])\n"
          ]
        },
        {
          "output_type": "stream",
          "name": "stderr",
          "text": [
            "\n"
          ]
        }
      ]
    },
    {
      "cell_type": "code",
      "execution_count": 149,
      "metadata": {
        "id": "2M4QzyL6WNaf"
      },
      "outputs": [],
      "source": [
        "from monai.transforms import Compose, LoadImaged, EnsureChannelFirstd, ScaleIntensityd, NormalizeIntensityd, RandRotated, RandFlipd, RandZoomd, ToTensord\n",
        "\n",
        "train_transforms = Compose([\n",
        "    LoadImaged(keys=[\"image\", \"label\"]),\n",
        "    EnsureChannelFirstd(keys=[\"image\", \"label\"]),\n",
        "    ScaleIntensityd(keys=[\"image\"]),\n",
        "    NormalizeIntensityd(keys=[\"image\"], subtrahend=mean.tolist(), divisor=std.tolist()),\n",
        "    RandRotated(keys=[\"image\", \"label\"], range_x=0.3, prob=0.5),\n",
        "    RandFlipd(keys=[\"image\", \"label\"], prob=0.5),\n",
        "    RandZoomd(keys=[\"image\", \"label\"], min_zoom=0.9, max_zoom=1.1, prob=0.5),\n",
        "    ToTensord(keys=[\"image\", \"label\"]),\n",
        "])\n",
        "\n",
        "test_transforms = Compose([\n",
        "    LoadImaged(keys=[\"image\", \"label\"]),\n",
        "    EnsureChannelFirstd(keys=[\"image\", \"label\"]),\n",
        "    ScaleIntensityd(keys=[\"image\"]),\n",
        "    NormalizeIntensityd(keys=[\"image\"], subtrahend=mean.tolist(), divisor=std.tolist()),\n",
        "    ToTensord(keys=[\"image\", \"label\"])\n",
        "])\n"
      ]
    },
    {
      "cell_type": "code",
      "execution_count": 150,
      "metadata": {
        "id": "fuEVd74Ei12y",
        "colab": {
          "base_uri": "https://localhost:8080/",
          "height": 294
        },
        "outputId": "da9577aa-14e9-42f2-faa8-fa3556f3c772"
      },
      "outputs": [
        {
          "output_type": "stream",
          "name": "stdout",
          "text": [
            "Skipping sample at index: 0:['/content/clean_data_local/imagesTr/PatientID_0059_Timepoint_2_0000.nii.gz', '/content/clean_data_local/imagesTr/PatientID_0059_Timepoint_2_0001.nii.gz', '/content/clean_data_local/imagesTr/PatientID_0059_Timepoint_2_0002.nii.gz', '/content/clean_data_local/imagesTr/PatientID_0059_Timepoint_2_0003.nii.gz'] (applying transform <monai.transforms.intensity.dictionary.NormalizeIntensityd object at 0x7a4f00920c10>)\n",
            "Skipping sample at index: 1:['/content/clean_data_local/imagesTr/PatientID_0252_Timepoint_1_0000.nii.gz', '/content/clean_data_local/imagesTr/PatientID_0252_Timepoint_1_0001.nii.gz', '/content/clean_data_local/imagesTr/PatientID_0252_Timepoint_1_0002.nii.gz', '/content/clean_data_local/imagesTr/PatientID_0252_Timepoint_1_0003.nii.gz'] (applying transform <monai.transforms.intensity.dictionary.NormalizeIntensityd object at 0x7a4f00920c10>)\n",
            "Skipping sample at index: 2:['/content/clean_data_local/imagesTr/PatientID_0046_Timepoint_1_0000.nii.gz', '/content/clean_data_local/imagesTr/PatientID_0046_Timepoint_1_0001.nii.gz', '/content/clean_data_local/imagesTr/PatientID_0046_Timepoint_1_0002.nii.gz', '/content/clean_data_local/imagesTr/PatientID_0046_Timepoint_1_0003.nii.gz'] (applying transform <monai.transforms.intensity.dictionary.NormalizeIntensityd object at 0x7a4f00920c10>)\n",
            "Skipping sample at index: 3:['/content/clean_data_local/imagesTr/PatientID_0199_Timepoint_1_0000.nii.gz', '/content/clean_data_local/imagesTr/PatientID_0199_Timepoint_1_0001.nii.gz', '/content/clean_data_local/imagesTr/PatientID_0199_Timepoint_1_0002.nii.gz', '/content/clean_data_local/imagesTr/PatientID_0199_Timepoint_1_0003.nii.gz'] (applying transform <monai.transforms.intensity.dictionary.NormalizeIntensityd object at 0x7a4f00920c10>)\n"
          ]
        },
        {
          "output_type": "error",
          "ename": "TypeError",
          "evalue": "'NoneType' object is not subscriptable",
          "traceback": [
            "\u001b[0;31m---------------------------------------------------------------------------\u001b[0m",
            "\u001b[0;31mTypeError\u001b[0m                                 Traceback (most recent call last)",
            "\u001b[0;32m/tmp/ipython-input-3318932042.py\u001b[0m in \u001b[0;36m<cell line: 0>\u001b[0;34m()\u001b[0m\n\u001b[1;32m      1\u001b[0m \u001b[0mtrain_dataset_norm\u001b[0m \u001b[0;34m=\u001b[0m\u001b[0mSafeDataset\u001b[0m\u001b[0;34m(\u001b[0m\u001b[0mdata\u001b[0m\u001b[0;34m=\u001b[0m\u001b[0mtrain_files\u001b[0m\u001b[0;34m,\u001b[0m\u001b[0mtransform\u001b[0m\u001b[0;34m=\u001b[0m\u001b[0mtrain_transforms\u001b[0m\u001b[0;34m)\u001b[0m\u001b[0;34m\u001b[0m\u001b[0;34m\u001b[0m\u001b[0m\n\u001b[1;32m      2\u001b[0m \u001b[0mdataset_loader_norm\u001b[0m\u001b[0;34m=\u001b[0m\u001b[0mDataLoader\u001b[0m\u001b[0;34m(\u001b[0m\u001b[0mtrain_dataset_norm\u001b[0m\u001b[0;34m,\u001b[0m\u001b[0mbatch_size\u001b[0m\u001b[0;34m=\u001b[0m\u001b[0mbatch_size\u001b[0m\u001b[0;34m,\u001b[0m \u001b[0mcollate_fn\u001b[0m\u001b[0;34m=\u001b[0m\u001b[0mcollate_skip_none\u001b[0m\u001b[0;34m)\u001b[0m\u001b[0;34m\u001b[0m\u001b[0;34m\u001b[0m\u001b[0m\n\u001b[0;32m----> 3\u001b[0;31m \u001b[0mbatch_shape\u001b[0m\u001b[0;34m=\u001b[0m\u001b[0mnext\u001b[0m\u001b[0;34m(\u001b[0m\u001b[0miter\u001b[0m\u001b[0;34m(\u001b[0m\u001b[0mdataset_loader_norm\u001b[0m\u001b[0;34m)\u001b[0m\u001b[0;34m)\u001b[0m\u001b[0;34m[\u001b[0m\u001b[0;34m\"image\"\u001b[0m\u001b[0;34m]\u001b[0m\u001b[0;34m.\u001b[0m\u001b[0mshape\u001b[0m\u001b[0;34m\u001b[0m\u001b[0;34m\u001b[0m\u001b[0m\n\u001b[0m\u001b[1;32m      4\u001b[0m \u001b[0mprint\u001b[0m\u001b[0;34m(\u001b[0m\u001b[0;34m\"Getting batches of shape:\"\u001b[0m\u001b[0;34m,\u001b[0m\u001b[0mbatch_shape\u001b[0m\u001b[0;34m)\u001b[0m\u001b[0;34m\u001b[0m\u001b[0;34m\u001b[0m\u001b[0m\n",
            "\u001b[0;31mTypeError\u001b[0m: 'NoneType' object is not subscriptable"
          ]
        }
      ],
      "source": [
        "train_dataset_norm =SafeDataset(data=train_files,transform=train_transforms)\n",
        "dataset_loader_norm=DataLoader(train_dataset_norm,batch_size=batch_size, collate_fn=collate_skip_none)\n",
        "batch_shape=next(iter(dataset_loader_norm))[\"image\"].shape\n",
        "print(\"Getting batches of shape:\",batch_shape)\n"
      ]
    },
    {
      "cell_type": "code",
      "source": [
        "batch_size=2\n",
        "test_dataset_norm=Dataset.ImageFolder(data=test_files,transform=val_transforms)\n",
        "dataset_loader_test_norm=DataLoader(test_dataset_norm,batch_size=batch_size,shuffle=False)\n",
        "batch_shape=next(iter(dataset_loader_test_norm))[\"image\"].shape\n",
        "print(\"Getting batches of shape:\",batch_shape)\n",
        "print(type(test_dataset_norm))"
      ],
      "metadata": {
        "id": "eLGMPnPI98yM"
      },
      "execution_count": null,
      "outputs": []
    },
    {
      "cell_type": "code",
      "source": [
        "\n",
        "norm_mean, norm_std = get_mean_std(dataset_loader_norm)\n",
        "\n",
        "print(f\"Mean: {norm_mean}\")\n",
        "print(f\"Standard deviation: {norm_std}\")\n"
      ],
      "metadata": {
        "id": "vxUpYMPk-XMM"
      },
      "execution_count": null,
      "outputs": []
    },
    {
      "cell_type": "code",
      "source": [
        "norm_mean, norm_std = get_mean_std(dataset_loader_test_norm)\n",
        "\n",
        "print(f\"Mean: {norm_mean}\")\n",
        "print(f\"Standard deviation: {norm_std}\")"
      ],
      "metadata": {
        "id": "FtlKOJq3-spn"
      },
      "execution_count": null,
      "outputs": []
    },
    {
      "cell_type": "code",
      "execution_count": null,
      "metadata": {
        "colab": {
          "base_uri": "https://localhost:8080/"
        },
        "id": "_Ws6BPrPaaoe",
        "outputId": "d395513d-a852-4792-e22a-967a7835b9b2"
      },
      "outputs": [
        {
          "output_type": "stream",
          "name": "stdout",
          "text": [
            "<class 'monai.data.dataloader.DataLoader'>\n",
            "<class 'monai.data.dataloader.DataLoader'>\n"
          ]
        }
      ],
      "source": [
        "train_loader=DataLoader(train_ds,batch_size=4,shuffle=True)\n",
        "val_loader=DataLoader(val_ds,batch_size=2,shuffle=False)\n",
        "print(type(train_loader))\n",
        "print(type(val_loader))"
      ]
    },
    {
      "cell_type": "code",
      "source": [
        "train_files = random_split(train_dataset_norm ,[0.8])\n",
        "\n",
        "length_train = len(train_dataset_norm)\n",
        "length_dataset = len(train_dataset_norm)\n",
        "percent_train = np.round(100 * length_train / length_dataset, 2)\n",
        "\n",
        "print(f\"Train data is {percent_train}% of full data\")\n"
      ],
      "metadata": {
        "id": "GMUlwK41CwhW"
      },
      "execution_count": null,
      "outputs": []
    },
    {
      "cell_type": "code",
      "source": [
        "test_files = random_split(test_dataset_norm,[0.2])\n",
        "length_test = len(val_dataset)\n",
        "length_dataset = len(test_dataset_norm)\n",
        "percent_test = np.round(100 * length_test / length_dataset, 2)\n",
        "print(f\"Our Test data is {percent_test}% of full data\")"
      ],
      "metadata": {
        "id": "fSPddvKLDAsb"
      },
      "execution_count": null,
      "outputs": []
    },
    {
      "cell_type": "code",
      "execution_count": null,
      "metadata": {
        "id": "vvIfZbq4BsOX"
      },
      "outputs": [],
      "source": [
        "import torch"
      ]
    },
    {
      "cell_type": "markdown",
      "metadata": {
        "id": "C4zGBucN1xZ_"
      },
      "source": [
        "\n",
        "**# Convert dataset to nnUNet format**"
      ]
    },
    {
      "cell_type": "code",
      "source": [
        "import os\n",
        "os.environ['nnUNet_raw_data_base'] = '/content/clean_data_local/nnUNet_raw_data'\n",
        "os.environ['nnUNet_preprocessed'] = '/content/nnUNet_preprocessed'\n",
        "os.environ['RESULTS_FOLDER'] = '/content/nnUNet_results'\n",
        "\n",
        "\n",
        "os.makedirs('/content/clean_data_local/nnUNet_raw_data', exist_ok=True)\n",
        "os.makedirs('/content/nnUNet_preprocessed', exist_ok=True)\n",
        "os.makedirs('/content/nnUNet_results', exist_ok=True)\n",
        "\n",
        "print(\"nnUNet_raw_data_base =\", os.environ['nnUNet_raw_data_base'])\n",
        "print(\"nnUNet_preprocessed =\", os.environ['nnUNet_preprocessed'])\n",
        "print(\"RESULTS_FOLDER =\", os.environ['RESULTS_FOLDER'])"
      ],
      "metadata": {
        "id": "6NUyTiJeELDd"
      },
      "execution_count": null,
      "outputs": []
    },
    {
      "cell_type": "code",
      "source": [
        "!mkdir -p /content/clean_data_local/nnUNet_raw_data/Task001_Glioma"
      ],
      "metadata": {
        "id": "ClkAbeliELlM"
      },
      "execution_count": null,
      "outputs": []
    },
    {
      "cell_type": "code",
      "source": [
        "!mv /content/clean_data_local/imagesTr /content/clean_data_local/nnUNet_raw_data/Task001_Glioma/\n",
        "!mv /content/clean_data_local/labelsTr /content/clean_data_local/nnUNet_raw_data/Task001_Glioma/\n",
        "!mv /content/clean_data_local/dataset.json /content/clean_data_local/nnUNet_raw_data/Task001_Glioma/\n"
      ],
      "metadata": {
        "id": "VFmy4vyYEVhu"
      },
      "execution_count": null,
      "outputs": []
    },
    {
      "cell_type": "code",
      "source": [
        "!rm -rf /content/nnUNet_preprocessed/*\n"
      ],
      "metadata": {
        "id": "OltRrqNGsVaE"
      },
      "execution_count": null,
      "outputs": []
    },
    {
      "cell_type": "code",
      "source": [
        "import os\n",
        "os.environ['nnUNet_raw_data_base'] = '/content/clean_data_local'\n",
        "\n"
      ],
      "metadata": {
        "id": "DhWh6wS6sRp8"
      },
      "execution_count": null,
      "outputs": []
    },
    {
      "cell_type": "code",
      "source": [
        "import json\n",
        "\n",
        "task_ids_path = \"/content/clean_data_local/nnunet_task_ids.json\"\n",
        "\n",
        "task_ids = {\n",
        "    \"1\": \"Task001_Glioma\"\n",
        "}\n",
        "\n",
        "with open(task_ids_path, \"w\") as f:\n",
        "    json.dump(task_ids, f)\n",
        "\n",
        "print(f\"Created {task_ids_path}\")\n"
      ],
      "metadata": {
        "colab": {
          "base_uri": "https://localhost:8080/"
        },
        "id": "RLNfDh5p1x2B",
        "outputId": "f8c0007b-904a-4945-8a22-df5c3a6e24c3"
      },
      "execution_count": null,
      "outputs": [
        {
          "output_type": "stream",
          "name": "stdout",
          "text": [
            "Created /content/clean_data_local/nnunet_task_ids.json\n"
          ]
        }
      ]
    },
    {
      "cell_type": "code",
      "source": [
        "!nnUNet_plan_and_preprocess -t 1 --verify_dataset_integrity\n",
        "\n",
        "\n",
        "\n",
        "\n",
        "\n"
      ],
      "metadata": {
        "colab": {
          "base_uri": "https://localhost:8080/"
        },
        "id": "GzYdAPrWqYr-",
        "outputId": "ba5b31f7-7e9f-4f94-d628-01be7d869ad1"
      },
      "execution_count": null,
      "outputs": [
        {
          "output_type": "stream",
          "name": "stdout",
          "text": [
            "\n",
            "\n",
            "Please cite the following paper when using nnUNet:\n",
            "\n",
            "Isensee, F., Jaeger, P.F., Kohl, S.A.A. et al. \"nnU-Net: a self-configuring method for deep learning-based biomedical image segmentation.\" Nat Methods (2020). https://doi.org/10.1038/s41592-020-01008-z\n",
            "\n",
            "\n",
            "If you have questions or suggestions, feel free to open an issue at https://github.com/MIC-DKFZ/nnUNet\n",
            "\n",
            "Traceback (most recent call last):\n",
            "  File \"/usr/local/bin/nnUNet_plan_and_preprocess\", line 8, in <module>\n",
            "    sys.exit(main())\n",
            "             ^^^^^^\n",
            "  File \"/usr/local/lib/python3.11/dist-packages/nnunet/experiment_planning/nnUNet_plan_and_preprocess.py\", line 105, in main\n",
            "    verify_dataset_integrity(join(nnUNet_raw_data, task_name))\n",
            "  File \"/usr/local/lib/python3.11/dist-packages/nnunet/preprocessing/sanity_checks.py\", line 105, in verify_dataset_integrity\n",
            "    training_cases = dataset['training']\n",
            "                     ~~~~~~~^^^^^^^^^^^^\n",
            "KeyError: 'training'\n"
          ]
        }
      ]
    },
    {
      "cell_type": "code",
      "source": [
        "!nnUNet_train 3d_fullres nnUNetTrainerV2 Task001_Glioma 0 --npz"
      ],
      "metadata": {
        "colab": {
          "base_uri": "https://localhost:8080/"
        },
        "id": "g5YdjAFrn_af",
        "outputId": "07bc6635-694e-46e7-82b5-192b69a1b413"
      },
      "execution_count": null,
      "outputs": [
        {
          "output_type": "stream",
          "name": "stdout",
          "text": [
            "/bin/bash: line 1: nnUNet_train: command not found\n"
          ]
        }
      ]
    }
  ],
  "metadata": {
    "accelerator": "GPU",
    "colab": {
      "gpuType": "T4",
      "provenance": []
    },
    "kernelspec": {
      "display_name": "Python 3",
      "name": "python3"
    },
    "language_info": {
      "name": "python"
    }
  },
  "nbformat": 4,
  "nbformat_minor": 0
}